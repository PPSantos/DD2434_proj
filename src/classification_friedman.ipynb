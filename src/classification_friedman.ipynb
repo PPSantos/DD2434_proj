{
 "cells": [
  {
   "cell_type": "markdown",
   "metadata": {},
   "source": [
    "# Relevance Vector Machine - Regression"
   ]
  },
  {
   "cell_type": "code",
   "execution_count": 1,
   "metadata": {},
   "outputs": [],
   "source": [
    "import itertools\n",
    "import matplotlib.pyplot as plt\n",
    "import numpy as np\n",
    "import pandas as pd\n",
    "import random\n",
    "import seaborn as sns\n",
    "from sklearn.metrics import mean_absolute_error\n",
    "from sklearn.metrics import mean_squared_error\n",
    "from sklearn import datasets\n",
    "from sklearn.svm import SVC\n",
    "from sklearn.svm import SVR\n",
    "from sklearn import preprocessing\n",
    "\n",
    "from RVR import RVR"
   ]
  },
  {
   "cell_type": "markdown",
   "metadata": {},
   "source": [
    "## 1) Friedman 1"
   ]
  },
  {
   "cell_type": "code",
   "execution_count": 2,
   "metadata": {},
   "outputs": [
    {
     "name": "stdout",
     "output_type": "stream",
     "text": [
      "(240, 10)\n",
      "(240,)\n"
     ]
    }
   ],
   "source": [
    "N = 240\n",
    "attributes = 10\n",
    "noise = 1\n",
    "random_seed =1 #necessary to reproduce exact data minus the noise\n",
    "data1 = datasets.make_friedman1(N, attributes, noise, random_seed)\n",
    "X = data1[0]\n",
    "T = data1[1]\n",
    "\n",
    "print X.shape\n",
    "print T.shape"
   ]
  },
  {
   "cell_type": "code",
   "execution_count": 53,
   "metadata": {},
   "outputs": [
    {
     "name": "stdout",
     "output_type": "stream",
     "text": [
      "('Average RMSE RVM:', 1.3847148370693165)\n",
      "('Average number of relevance vectors:', 8)\n",
      "('Average RMSE SVM:', 1.9614971601067663)\n",
      "('Average number of support vectors:', 31)\n"
     ]
    }
   ],
   "source": [
    "N = 240\n",
    "test_N = 1000\n",
    "attributes = 10\n",
    "noise = 1\n",
    "relevance_vect = 0\n",
    "R_AbsEr = 0\n",
    "support_vectors = 0\n",
    "S_AbsEr = 0\n",
    "runs = 100\n",
    "\n",
    "for i in range(runs):\n",
    "    rvm = RVR(kernel = 'rbf', coef0=0.001)\n",
    "    svr = SVR(epsilon=4, C=1e3, tol=1e-5)\n",
    "    \n",
    "    random_seed = i #necessary to reproduce similar data minus the noise\n",
    "    data1 = datasets.make_friedman1(N, attributes, noise, random_seed)\n",
    "    test_data1 = datasets.make_friedman1(test_N, attributes, 0, random_seed+1)\n",
    "    \n",
    "    X1 = data1[0]\n",
    "    X1_test = test_data1[0]\n",
    "    T1 = data1[1]\n",
    "    \n",
    "    rvm.fit(X1,T1)\n",
    "    svr.fit(X1,T1)\n",
    "\n",
    "    \n",
    "    Y1 = test_data1[1]\n",
    "    y1_pred, sigma1 = rvm.predict(X1_test)\n",
    "\n",
    "    relevance_vect += rvm.get_relevance_vectors().shape[0]\n",
    "    R_AbsEr += np.sqrt(mean_absolute_error(y1_pred, Y1))\n",
    "    \n",
    "    support_vectors += len(svr.support_)\n",
    "    y_pred1 = svr.predict(X1_test)\n",
    "    S_AbsEr += mean_absolute_error(y_pred1, Y1)\n",
    "\n",
    "\n",
    "\n",
    "R_AbsEr /= runs\n",
    "relevance_vect /= runs\n",
    "S_AbsEr /= runs\n",
    "support_vectors /= runs\n",
    "print('Average RMSE RVM:', R_AbsEr)\n",
    "print('Average number of relevance vectors:', relevance_vect)\n",
    "print('Average RMSE SVM:', S_AbsEr)\n",
    "print('Average number of support vectors:', support_vectors)"
   ]
  },
  {
   "cell_type": "markdown",
   "metadata": {},
   "source": [
    "## 2) Friedman 2"
   ]
  },
  {
   "cell_type": "code",
   "execution_count": 71,
   "metadata": {
    "scrolled": true
   },
   "outputs": [
    {
     "name": "stdout",
     "output_type": "stream",
     "text": [
      "('Average Errors RVM:', 18.072897394622906)\n",
      "('Average number off relevance vectors:', 14)\n",
      "('Average Errors SVM:', 310.12344542539734)\n",
      "('Average number of support vectors:', 238)\n"
     ]
    }
   ],
   "source": [
    "N = 240\n",
    "test_N = 1000\n",
    "attributes = 10\n",
    "noise = 1\n",
    "relevance_vect = 0\n",
    "R_AbsEr = 0\n",
    "support_vectors = 0\n",
    "S_AbsEr = 0\n",
    "runs = 100\n",
    "\n",
    "for i in range(runs):\n",
    "    rvm = RVR(kernel = 'rbf', coef0=0.0001)\n",
    "    rvm.threshold_alpha=1.9e-11\n",
    "    svr = SVR(epsilon=4, C=1e3, tol=1e-5)\n",
    "    \n",
    "    random_seed = i #necessary to reproduce different data minus the noise\n",
    "    data2 = datasets.make_friedman2(N, noise, random_seed)\n",
    "    test_data2 = datasets.make_friedman2(test_N, 0, random_seed+1)\n",
    "    \n",
    "    X2 = data2[0]\n",
    "    X2_test = test_data2[0]\n",
    "    T2 = data2[1]\n",
    "    \n",
    "    rvm.fit(X2,T2)\n",
    "    svr.fit(X2,T2)\n",
    "\n",
    "    #print rvm.get_relevance_vectors().shape[0]\n",
    "    Y2 = test_data2[1]\n",
    "    y2_pred, sigma2 = rvm.predict(X2_test)\n",
    "    relevance_vect += rvm.get_relevance_vectors().shape[0]\n",
    "    \n",
    "    R_AbsEr += np.sqrt(mean_absolute_error(y2_pred, Y2))\n",
    "    \n",
    "    support_vectors += len(svr.support_)\n",
    "    y_pred2 = svr.predict(X2_test)\n",
    "    S_AbsEr += mean_absolute_error(y_pred2, Y2)\n",
    "\n",
    "R_AbsEr /= runs\n",
    "relevance_vect /= runs\n",
    "S_AbsEr /= runs\n",
    "support_vectors /= runs\n",
    "print('Average Errors RVM:', R_AbsEr)\n",
    "print('Average number off relevance vectors:', relevance_vect)\n",
    "print('Average Errors SVM:', S_AbsEr)\n",
    "print('Average number of support vectors:', support_vectors)"
   ]
  },
  {
   "cell_type": "markdown",
   "metadata": {},
   "source": [
    "## 3) Friedman 3"
   ]
  },
  {
   "cell_type": "code",
   "execution_count": 52,
   "metadata": {},
   "outputs": [
    {
     "name": "stdout",
     "output_type": "stream",
     "text": [
      "('Average Errors RVM:', 1.1082263403889212)\n",
      "('Average number of relevance vectors:', 35)\n",
      "('Average Errors SVM:', 0.20713613987705098)\n",
      "('Average number of support vectors:', 168)\n"
     ]
    }
   ],
   "source": [
    "N = 240\n",
    "test_N = 1000\n",
    "attributes = 10\n",
    "noise = 1\n",
    "relevance_vect = 0\n",
    "R_AbsEr = 0\n",
    "support_vectors = 0\n",
    "S_AbsEr = 0\n",
    "runs = 1\n",
    "\n",
    "for i in range(runs):\n",
    "    rvm = RVR(kernel = 'rbf', coef0=1e-2)\n",
    "    rvm.threshold_alpha=0.25\n",
    "    rvm.em_tol = 1e-10\n",
    "    svr = SVR(epsilon=0.4, C=1e3, tol=1e-5)\n",
    "    \n",
    "    random_seed = i #necessary to reproduce different data minus the noise\n",
    "    data3 = datasets.make_friedman3(N, noise, random_seed)\n",
    "    test_data3 = datasets.make_friedman3(test_N, 0, random_seed+1)\n",
    "    \n",
    "    X3 = data3[0]\n",
    "    X3_test = test_data3[0]\n",
    "    T3 = data3[1]\n",
    "    \n",
    "    rvm.fit(X3,T3)\n",
    "    svr.fit(X3,T3)\n",
    "\n",
    "    #print rvm.get_relevance_vectors().shape[0]\n",
    "    Y3 = test_data3[1]\n",
    "    y3_pred, sigma3 = rvm.predict(X3_test)\n",
    "    relevance_vect += rvm.get_relevance_vectors().shape[0]\n",
    "    \n",
    "    R_AbsEr += np.sqrt(mean_absolute_error(y3_pred, Y3))\n",
    "    \n",
    "    support_vectors += len(svr.support_)\n",
    "    y_pred3 = svr.predict(X3_test)\n",
    "    S_AbsEr += mean_absolute_error(y_pred3, Y3)\n",
    "\n",
    "R_AbsEr /= runs\n",
    "relevance_vect /= runs\n",
    "S_AbsEr /= runs\n",
    "support_vectors /= runs\n",
    "print('Average Errors RVM:', R_AbsEr)\n",
    "print('Average number of relevance vectors:', relevance_vect)\n",
    "print('Average Errors SVM:', S_AbsEr)\n",
    "print('Average number of support vectors:', support_vectors)"
   ]
  },
  {
   "cell_type": "markdown",
   "metadata": {},
   "source": [
    "### Boston housing"
   ]
  },
  {
   "cell_type": "code",
   "execution_count": null,
   "metadata": {},
   "outputs": [],
   "source": [
    "N = 240\n",
    "test_N = 1000\n",
    "attributes = 10\n",
    "noise = 1\n",
    "relevance_vect = 0\n",
    "R_AbsEr = 0\n",
    "support_vectors = 0\n",
    "S_AbsEr = 0\n",
    "runs = 1\n",
    "\n",
    "for i in range(runs):\n",
    "    rvm = RVR(kernel = 'rbf', coef0=1e-2)\n",
    "    rvm.threshold_alpha=0.25\n",
    "    rvm.em_tol = 1e-10\n",
    "    svr = SVR(epsilon=0.4, C=1e3, tol=1e-5)\n",
    "    \n",
    "    random_seed = i #necessary to reproduce different data minus the noise\n",
    "    dataB = datasets.load_boston(return_X_y = True)\n",
    "    test_data3 = datasets.make_friedman3(test_N, 0, random_seed+1)\n",
    "    \n",
    "    X3 = data3[0]\n",
    "    X3_test = test_data3[0]\n",
    "    T3 = data3[1]\n",
    "    \n",
    "    rvm.fit(X3,T3)\n",
    "    svr.fit(X3,T3)\n",
    "\n",
    "    #print rvm.get_relevance_vectors().shape[0]\n",
    "    Y3 = test_data3[1]\n",
    "    y3_pred, sigma3 = rvm.predict(X3_test)\n",
    "    relevance_vect += rvm.get_relevance_vectors().shape[0]\n",
    "    \n",
    "    R_AbsEr += np.sqrt(mean_absolute_error(y3_pred, Y3))\n",
    "    \n",
    "    support_vectors += len(svr.support_)\n",
    "    y_pred3 = svr.predict(X3_test)\n",
    "    S_AbsEr += mean_absolute_error(y_pred3, Y3)\n",
    "\n",
    "R_AbsEr /= runs\n",
    "relevance_vect /= runs\n",
    "S_AbsEr /= runs\n",
    "support_vectors /= runs\n",
    "print('Average Errors RVM:', R_AbsEr)\n",
    "print('Average number of relevance vectors:', relevance_vect)\n",
    "print('Average Errors SVM:', S_AbsEr)\n",
    "print('Average number of support vectors:', support_vectors)"
   ]
  }
 ],
 "metadata": {
  "kernelspec": {
   "display_name": "Python 2",
   "language": "python",
   "name": "python2"
  },
  "language_info": {
   "codemirror_mode": {
    "name": "ipython",
    "version": 2
   },
   "file_extension": ".py",
   "mimetype": "text/x-python",
   "name": "python",
   "nbconvert_exporter": "python",
   "pygments_lexer": "ipython2",
   "version": "2.7.15"
  }
 },
 "nbformat": 4,
 "nbformat_minor": 2
}
